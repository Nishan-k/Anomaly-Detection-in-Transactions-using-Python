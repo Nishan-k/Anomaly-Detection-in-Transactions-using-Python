{
 "cells": [
  {
   "cell_type": "markdown",
   "id": "f6a2c5d2",
   "metadata": {},
   "source": [
    "# 1. Import the libraries:"
   ]
  },
  {
   "cell_type": "code",
   "execution_count": 3,
   "id": "3f83b29e",
   "metadata": {},
   "outputs": [],
   "source": [
    "import pandas as pd\n",
    "import numpy as np\n",
    "import plotly.express as xp"
   ]
  },
  {
   "cell_type": "markdown",
   "id": "14e52135",
   "metadata": {},
   "source": [
    "# 2. Read the data:"
   ]
  },
  {
   "cell_type": "code",
   "execution_count": 5,
   "id": "196432ce",
   "metadata": {},
   "outputs": [
    {
     "data": {
      "text/html": [
       "<div>\n",
       "<style scoped>\n",
       "    .dataframe tbody tr th:only-of-type {\n",
       "        vertical-align: middle;\n",
       "    }\n",
       "\n",
       "    .dataframe tbody tr th {\n",
       "        vertical-align: top;\n",
       "    }\n",
       "\n",
       "    .dataframe thead th {\n",
       "        text-align: right;\n",
       "    }\n",
       "</style>\n",
       "<table border=\"1\" class=\"dataframe\">\n",
       "  <thead>\n",
       "    <tr style=\"text-align: right;\">\n",
       "      <th></th>\n",
       "      <th>Transaction_ID</th>\n",
       "      <th>Transaction_Amount</th>\n",
       "      <th>Transaction_Volume</th>\n",
       "      <th>Average_Transaction_Amount</th>\n",
       "      <th>Frequency_of_Transactions</th>\n",
       "      <th>Time_Since_Last_Transaction</th>\n",
       "      <th>Day_of_Week</th>\n",
       "      <th>Time_of_Day</th>\n",
       "      <th>Age</th>\n",
       "      <th>Gender</th>\n",
       "      <th>Income</th>\n",
       "      <th>Account_Type</th>\n",
       "    </tr>\n",
       "  </thead>\n",
       "  <tbody>\n",
       "    <tr>\n",
       "      <th>0</th>\n",
       "      <td>TX0</td>\n",
       "      <td>1024.835708</td>\n",
       "      <td>3</td>\n",
       "      <td>997.234714</td>\n",
       "      <td>12</td>\n",
       "      <td>29</td>\n",
       "      <td>Friday</td>\n",
       "      <td>06:00</td>\n",
       "      <td>36</td>\n",
       "      <td>Male</td>\n",
       "      <td>1436074</td>\n",
       "      <td>Savings</td>\n",
       "    </tr>\n",
       "    <tr>\n",
       "      <th>1</th>\n",
       "      <td>TX1</td>\n",
       "      <td>1013.952065</td>\n",
       "      <td>4</td>\n",
       "      <td>1020.210306</td>\n",
       "      <td>7</td>\n",
       "      <td>22</td>\n",
       "      <td>Friday</td>\n",
       "      <td>01:00</td>\n",
       "      <td>41</td>\n",
       "      <td>Female</td>\n",
       "      <td>627069</td>\n",
       "      <td>Savings</td>\n",
       "    </tr>\n",
       "    <tr>\n",
       "      <th>2</th>\n",
       "      <td>TX2</td>\n",
       "      <td>970.956093</td>\n",
       "      <td>1</td>\n",
       "      <td>989.496604</td>\n",
       "      <td>5</td>\n",
       "      <td>12</td>\n",
       "      <td>Tuesday</td>\n",
       "      <td>21:00</td>\n",
       "      <td>61</td>\n",
       "      <td>Male</td>\n",
       "      <td>786232</td>\n",
       "      <td>Savings</td>\n",
       "    </tr>\n",
       "    <tr>\n",
       "      <th>3</th>\n",
       "      <td>TX3</td>\n",
       "      <td>1040.822254</td>\n",
       "      <td>2</td>\n",
       "      <td>969.522480</td>\n",
       "      <td>16</td>\n",
       "      <td>28</td>\n",
       "      <td>Sunday</td>\n",
       "      <td>14:00</td>\n",
       "      <td>61</td>\n",
       "      <td>Male</td>\n",
       "      <td>619030</td>\n",
       "      <td>Savings</td>\n",
       "    </tr>\n",
       "    <tr>\n",
       "      <th>4</th>\n",
       "      <td>TX4</td>\n",
       "      <td>998.777241</td>\n",
       "      <td>1</td>\n",
       "      <td>1007.111026</td>\n",
       "      <td>7</td>\n",
       "      <td>7</td>\n",
       "      <td>Friday</td>\n",
       "      <td>08:00</td>\n",
       "      <td>56</td>\n",
       "      <td>Female</td>\n",
       "      <td>649457</td>\n",
       "      <td>Savings</td>\n",
       "    </tr>\n",
       "  </tbody>\n",
       "</table>\n",
       "</div>"
      ],
      "text/plain": [
       "  Transaction_ID  Transaction_Amount  Transaction_Volume  \\\n",
       "0            TX0         1024.835708                   3   \n",
       "1            TX1         1013.952065                   4   \n",
       "2            TX2          970.956093                   1   \n",
       "3            TX3         1040.822254                   2   \n",
       "4            TX4          998.777241                   1   \n",
       "\n",
       "   Average_Transaction_Amount  Frequency_of_Transactions  \\\n",
       "0                  997.234714                         12   \n",
       "1                 1020.210306                          7   \n",
       "2                  989.496604                          5   \n",
       "3                  969.522480                         16   \n",
       "4                 1007.111026                          7   \n",
       "\n",
       "   Time_Since_Last_Transaction Day_of_Week Time_of_Day  Age  Gender   Income  \\\n",
       "0                           29      Friday       06:00   36    Male  1436074   \n",
       "1                           22      Friday       01:00   41  Female   627069   \n",
       "2                           12     Tuesday       21:00   61    Male   786232   \n",
       "3                           28      Sunday       14:00   61    Male   619030   \n",
       "4                            7      Friday       08:00   56  Female   649457   \n",
       "\n",
       "  Account_Type  \n",
       "0      Savings  \n",
       "1      Savings  \n",
       "2      Savings  \n",
       "3      Savings  \n",
       "4      Savings  "
      ]
     },
     "execution_count": 5,
     "metadata": {},
     "output_type": "execute_result"
    }
   ],
   "source": [
    "data = pd.read_csv(\"transaction_anomalies_dataset.csv\")\n",
    "data.head()"
   ]
  },
  {
   "cell_type": "markdown",
   "id": "ef7827bf",
   "metadata": {},
   "source": [
    "# 3. EDA:"
   ]
  },
  {
   "cell_type": "markdown",
   "id": "f378924c",
   "metadata": {},
   "source": [
    "Checking for any null values:"
   ]
  },
  {
   "cell_type": "code",
   "execution_count": 9,
   "id": "19c3d582",
   "metadata": {},
   "outputs": [
    {
     "data": {
      "text/plain": [
       "Transaction_ID                 0\n",
       "Transaction_Amount             0\n",
       "Transaction_Volume             0\n",
       "Average_Transaction_Amount     0\n",
       "Frequency_of_Transactions      0\n",
       "Time_Since_Last_Transaction    0\n",
       "Day_of_Week                    0\n",
       "Time_of_Day                    0\n",
       "Age                            0\n",
       "Gender                         0\n",
       "Income                         0\n",
       "Account_Type                   0\n",
       "dtype: int64"
      ]
     },
     "execution_count": 9,
     "metadata": {},
     "output_type": "execute_result"
    }
   ],
   "source": [
    "data.isna().sum()"
   ]
  },
  {
   "cell_type": "code",
   "execution_count": 15,
   "id": "dc87c801",
   "metadata": {},
   "outputs": [
    {
     "name": "stdout",
     "output_type": "stream",
     "text": [
      "There are a total of 1000 samples and 12 number of features.\n"
     ]
    }
   ],
   "source": [
    "print(f\"There are a total of {data.shape[0]} samples and {data.shape[1]} number of features.\")"
   ]
  },
  {
   "cell_type": "code",
   "execution_count": 16,
   "id": "68914f60",
   "metadata": {},
   "outputs": [
    {
     "name": "stdout",
     "output_type": "stream",
     "text": [
      "<class 'pandas.core.frame.DataFrame'>\n",
      "RangeIndex: 1000 entries, 0 to 999\n",
      "Data columns (total 12 columns):\n",
      " #   Column                       Non-Null Count  Dtype  \n",
      "---  ------                       --------------  -----  \n",
      " 0   Transaction_ID               1000 non-null   object \n",
      " 1   Transaction_Amount           1000 non-null   float64\n",
      " 2   Transaction_Volume           1000 non-null   int64  \n",
      " 3   Average_Transaction_Amount   1000 non-null   float64\n",
      " 4   Frequency_of_Transactions    1000 non-null   int64  \n",
      " 5   Time_Since_Last_Transaction  1000 non-null   int64  \n",
      " 6   Day_of_Week                  1000 non-null   object \n",
      " 7   Time_of_Day                  1000 non-null   object \n",
      " 8   Age                          1000 non-null   int64  \n",
      " 9   Gender                       1000 non-null   object \n",
      " 10  Income                       1000 non-null   int64  \n",
      " 11  Account_Type                 1000 non-null   object \n",
      "dtypes: float64(2), int64(5), object(5)\n",
      "memory usage: 93.9+ KB\n"
     ]
    }
   ],
   "source": [
    "data.info()"
   ]
  },
  {
   "cell_type": "markdown",
   "id": "32b54118",
   "metadata": {},
   "source": [
    "Looking at the descriptive statistics of the data:"
   ]
  },
  {
   "cell_type": "code",
   "execution_count": 17,
   "id": "b5b880df",
   "metadata": {},
   "outputs": [
    {
     "data": {
      "text/html": [
       "<div>\n",
       "<style scoped>\n",
       "    .dataframe tbody tr th:only-of-type {\n",
       "        vertical-align: middle;\n",
       "    }\n",
       "\n",
       "    .dataframe tbody tr th {\n",
       "        vertical-align: top;\n",
       "    }\n",
       "\n",
       "    .dataframe thead th {\n",
       "        text-align: right;\n",
       "    }\n",
       "</style>\n",
       "<table border=\"1\" class=\"dataframe\">\n",
       "  <thead>\n",
       "    <tr style=\"text-align: right;\">\n",
       "      <th></th>\n",
       "      <th>Transaction_Amount</th>\n",
       "      <th>Transaction_Volume</th>\n",
       "      <th>Average_Transaction_Amount</th>\n",
       "      <th>Frequency_of_Transactions</th>\n",
       "      <th>Time_Since_Last_Transaction</th>\n",
       "      <th>Age</th>\n",
       "      <th>Income</th>\n",
       "    </tr>\n",
       "  </thead>\n",
       "  <tbody>\n",
       "    <tr>\n",
       "      <th>count</th>\n",
       "      <td>1000.000000</td>\n",
       "      <td>1000.000000</td>\n",
       "      <td>1000.000000</td>\n",
       "      <td>1000.000000</td>\n",
       "      <td>1000.000000</td>\n",
       "      <td>1000.000000</td>\n",
       "      <td>1.000000e+03</td>\n",
       "    </tr>\n",
       "    <tr>\n",
       "      <th>mean</th>\n",
       "      <td>1038.122511</td>\n",
       "      <td>2.498000</td>\n",
       "      <td>1000.682506</td>\n",
       "      <td>12.078000</td>\n",
       "      <td>15.341000</td>\n",
       "      <td>40.641000</td>\n",
       "      <td>8.948238e+05</td>\n",
       "    </tr>\n",
       "    <tr>\n",
       "      <th>std</th>\n",
       "      <td>283.580055</td>\n",
       "      <td>1.115006</td>\n",
       "      <td>20.632334</td>\n",
       "      <td>4.245225</td>\n",
       "      <td>8.361258</td>\n",
       "      <td>13.819953</td>\n",
       "      <td>3.453562e+05</td>\n",
       "    </tr>\n",
       "    <tr>\n",
       "      <th>min</th>\n",
       "      <td>849.024392</td>\n",
       "      <td>1.000000</td>\n",
       "      <td>939.081423</td>\n",
       "      <td>5.000000</td>\n",
       "      <td>1.000000</td>\n",
       "      <td>18.000000</td>\n",
       "      <td>3.001590e+05</td>\n",
       "    </tr>\n",
       "    <tr>\n",
       "      <th>25%</th>\n",
       "      <td>966.028796</td>\n",
       "      <td>1.000000</td>\n",
       "      <td>986.800556</td>\n",
       "      <td>8.000000</td>\n",
       "      <td>8.000000</td>\n",
       "      <td>29.000000</td>\n",
       "      <td>5.917308e+05</td>\n",
       "    </tr>\n",
       "    <tr>\n",
       "      <th>50%</th>\n",
       "      <td>1002.118678</td>\n",
       "      <td>3.000000</td>\n",
       "      <td>1000.501902</td>\n",
       "      <td>12.000000</td>\n",
       "      <td>16.000000</td>\n",
       "      <td>41.000000</td>\n",
       "      <td>8.876645e+05</td>\n",
       "    </tr>\n",
       "    <tr>\n",
       "      <th>75%</th>\n",
       "      <td>1033.143657</td>\n",
       "      <td>3.000000</td>\n",
       "      <td>1015.155595</td>\n",
       "      <td>16.000000</td>\n",
       "      <td>22.000000</td>\n",
       "      <td>53.000000</td>\n",
       "      <td>1.178102e+06</td>\n",
       "    </tr>\n",
       "    <tr>\n",
       "      <th>max</th>\n",
       "      <td>3227.459108</td>\n",
       "      <td>4.000000</td>\n",
       "      <td>1073.154036</td>\n",
       "      <td>19.000000</td>\n",
       "      <td>29.000000</td>\n",
       "      <td>64.000000</td>\n",
       "      <td>1.499670e+06</td>\n",
       "    </tr>\n",
       "  </tbody>\n",
       "</table>\n",
       "</div>"
      ],
      "text/plain": [
       "       Transaction_Amount  Transaction_Volume  Average_Transaction_Amount  \\\n",
       "count         1000.000000         1000.000000                 1000.000000   \n",
       "mean          1038.122511            2.498000                 1000.682506   \n",
       "std            283.580055            1.115006                   20.632334   \n",
       "min            849.024392            1.000000                  939.081423   \n",
       "25%            966.028796            1.000000                  986.800556   \n",
       "50%           1002.118678            3.000000                 1000.501902   \n",
       "75%           1033.143657            3.000000                 1015.155595   \n",
       "max           3227.459108            4.000000                 1073.154036   \n",
       "\n",
       "       Frequency_of_Transactions  Time_Since_Last_Transaction          Age  \\\n",
       "count                1000.000000                  1000.000000  1000.000000   \n",
       "mean                   12.078000                    15.341000    40.641000   \n",
       "std                     4.245225                     8.361258    13.819953   \n",
       "min                     5.000000                     1.000000    18.000000   \n",
       "25%                     8.000000                     8.000000    29.000000   \n",
       "50%                    12.000000                    16.000000    41.000000   \n",
       "75%                    16.000000                    22.000000    53.000000   \n",
       "max                    19.000000                    29.000000    64.000000   \n",
       "\n",
       "             Income  \n",
       "count  1.000000e+03  \n",
       "mean   8.948238e+05  \n",
       "std    3.453562e+05  \n",
       "min    3.001590e+05  \n",
       "25%    5.917308e+05  \n",
       "50%    8.876645e+05  \n",
       "75%    1.178102e+06  \n",
       "max    1.499670e+06  "
      ]
     },
     "execution_count": 17,
     "metadata": {},
     "output_type": "execute_result"
    }
   ],
   "source": [
    "data.describe()"
   ]
  },
  {
   "cell_type": "code",
   "execution_count": null,
   "id": "4f402b54",
   "metadata": {},
   "outputs": [],
   "source": []
  }
 ],
 "metadata": {
  "kernelspec": {
   "display_name": "Python 3 (ipykernel)",
   "language": "python",
   "name": "python3"
  },
  "language_info": {
   "codemirror_mode": {
    "name": "ipython",
    "version": 3
   },
   "file_extension": ".py",
   "mimetype": "text/x-python",
   "name": "python",
   "nbconvert_exporter": "python",
   "pygments_lexer": "ipython3",
   "version": "3.10.4"
  }
 },
 "nbformat": 4,
 "nbformat_minor": 5
}
